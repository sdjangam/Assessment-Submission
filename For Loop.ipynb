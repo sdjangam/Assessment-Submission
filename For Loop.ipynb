{
 "cells": [
  {
   "cell_type": "markdown",
   "metadata": {},
   "source": [
    "# WAP to check prime number of not"
   ]
  },
  {
   "cell_type": "raw",
   "metadata": {},
   "source": [
    "n = 11 \n",
    "Prime Number >> If the num is divisible by 1 and itself\n",
    "\n",
    "4 >> 1,2,4\n",
    "5 >> 1,5\n",
    "13 >> 1,13\n",
    "\n",
    "13 is prime number\n",
    "14 is not prime number"
   ]
  },
  {
   "cell_type": "code",
   "execution_count": 4,
   "metadata": {},
   "outputs": [
    {
     "name": "stdout",
     "output_type": "stream",
     "text": [
      "Enter Any number to check prime or not:1000\n",
      "Number 1000 is Not Prime\n"
     ]
    }
   ],
   "source": [
    "number = int(input(\"Enter Any number to check prime or not:\")) # 1000\n",
    "count = 0\n",
    "for i in range(2,int(number/2)):\n",
    "    if number%i==0:\n",
    "        count=count+1 # 1 or 1000\n",
    "        break\n",
    "        \n",
    "if count==0:\n",
    "    print(f\"Number {number} is Prime\")\n",
    "else:\n",
    "    print(f\"Number {number} is Not Prime\")\n"
   ]
  },
  {
   "cell_type": "code",
   "execution_count": 13,
   "metadata": {},
   "outputs": [
    {
     "name": "stdout",
     "output_type": "stream",
     "text": [
      "Enter number: 4\n",
      "Given number4 is not a prime\n"
     ]
    }
   ],
   "source": [
    "# use that code for prime\n",
    "\n",
    "\n",
    "num = int(input(\"Enter number: \"))\n",
    "for i in range(1,(num+1)):     #i=1,i=2,i=3,i=4 \n",
    "                                # why 1 becoz we want 1 to 4 no\n",
    "                               #num+1 : if we take 4 then 1 to 4\n",
    "    if (num % i) == 0:        # 4 % 1 == 0: 4 % 2 == 0: 4 % 3 == 0: 4 % 4 == 0:\n",
    "        print(f\"Given number{num} is not a prime\")\n",
    "        break\n",
    "    else:\n",
    "        print(f\"Given number {num} is a prime\")\n",
    "        break"
   ]
  },
  {
   "cell_type": "code",
   "execution_count": 12,
   "metadata": {},
   "outputs": [
    {
     "name": "stdout",
     "output_type": "stream",
     "text": [
      "Enter number: 3\n",
      "Given number 3 is a prime\n"
     ]
    }
   ],
   "source": [
    "num = int(input(\"Enter number: \")) # 15\n",
    "\n",
    "for i in range(2,int(num/2) + 1): # 2 to 12\n",
    "    print(i,num % i)\n",
    "    if (num % i) == 0: #True  #  Remainder == 0\n",
    "        print(f\"Given number{num} is not a prime\")\n",
    "        break\n",
    "else:\n",
    "    print(f\"Given number {num} is a prime\")"
   ]
  },
  {
   "cell_type": "markdown",
   "metadata": {},
   "source": [
    "# Factorial of Number"
   ]
  },
  {
   "cell_type": "code",
   "execution_count": null,
   "metadata": {},
   "outputs": [],
   "source": [
    "5 >> 5 * 4 * 3 * 2 * 1\n",
    "4 >> 4 * 3 * 2 * 1\n",
    "5 >> 6 * 5 * 4 * 3 * 2 * 1"
   ]
  },
  {
   "cell_type": "code",
   "execution_count": 14,
   "metadata": {},
   "outputs": [
    {
     "name": "stdout",
     "output_type": "stream",
     "text": [
      "3\n",
      "Factorial of 3 is 6\n"
     ]
    }
   ],
   "source": [
    "n = int(input())\n",
    "fact = 1\n",
    "\n",
    "if n < 0: # -1 < 0\n",
    "    print(\"Factorial does not exist\")\n",
    " \n",
    "elif n == 0:                             #0==0\n",
    "    print(f\"Factorial of {n} is 1\") \n",
    "    \n",
    "else:\n",
    "    for i in range(1,n+1): # range (1,1)  i=1,i=2,i=3\n",
    "         fact = fact * i    # 1=1*1=1,  1=1+2=3,   3=3+3=6\n",
    "      \n",
    "    print(f\"Factorial of {n} is {fact}\") "
   ]
  },
  {
   "cell_type": "code",
   "execution_count": 69,
   "metadata": {},
   "outputs": [
    {
     "data": {
      "text/plain": [
       "True"
      ]
     },
     "execution_count": 69,
     "metadata": {},
     "output_type": "execute_result"
    }
   ],
   "source": [
    "1 < 0"
   ]
  },
  {
   "cell_type": "code",
   "execution_count": 27,
   "metadata": {},
   "outputs": [
    {
     "name": "stdout",
     "output_type": "stream",
     "text": [
      "1\n",
      "2\n",
      "3\n",
      "4\n",
      "5\n",
      "6\n",
      "7\n",
      "8\n",
      "9\n"
     ]
    }
   ],
   "source": [
    "for i in range(1,10):\n",
    "    print(i)"
   ]
  },
  {
   "cell_type": "code",
   "execution_count": 4,
   "metadata": {},
   "outputs": [
    {
     "name": "stdout",
     "output_type": "stream",
     "text": [
      "Python Class\n"
     ]
    }
   ],
   "source": [
    "print('Python',end = ' ')\n",
    "print('Class')             # Python+++Class"
   ]
  },
  {
   "cell_type": "code",
   "execution_count": 8,
   "metadata": {},
   "outputs": [
    {
     "name": "stdout",
     "output_type": "stream",
     "text": [
      "Python Class\n",
      "Data Science\n"
     ]
    }
   ],
   "source": [
    "print('Python',end=' ')\n",
    "print('Class')             # Python+++Class\n",
    "print(\"Data Science\")"
   ]
  },
  {
   "cell_type": "code",
   "execution_count": 10,
   "metadata": {},
   "outputs": [
    {
     "name": "stdout",
     "output_type": "stream",
     "text": [
      "Python Class Data Science\n"
     ]
    }
   ],
   "source": [
    "print('Python',end = ' ')\n",
    "print('Class',end=' ')            \n",
    "print(\"Data Science\")"
   ]
  },
  {
   "cell_type": "code",
   "execution_count": null,
   "metadata": {},
   "outputs": [],
   "source": [
    "pythonClass"
   ]
  },
  {
   "cell_type": "code",
   "execution_count": 45,
   "metadata": {},
   "outputs": [
    {
     "data": {
      "text/plain": [
       "90"
      ]
     },
     "execution_count": 45,
     "metadata": {},
     "output_type": "execute_result"
    }
   ],
   "source": [
    "sum([20,30,40])"
   ]
  },
  {
   "cell_type": "code",
   "execution_count": 22,
   "metadata": {},
   "outputs": [
    {
     "name": "stdout",
     "output_type": "stream",
     "text": [
      "-10\n",
      "-9\n",
      "-8\n",
      "-7\n",
      "-6\n",
      "-5\n",
      "-4\n",
      "-3\n",
      "-2\n"
     ]
    }
   ],
   "source": [
    "for i in range(-10,-1):\n",
    "    print(i)"
   ]
  },
  {
   "cell_type": "code",
   "execution_count": 24,
   "metadata": {},
   "outputs": [
    {
     "data": {
      "text/plain": [
       "[-5, -4, -3]"
      ]
     },
     "execution_count": 24,
     "metadata": {},
     "output_type": "execute_result"
    }
   ],
   "source": [
    "list(range(-5,-2))"
   ]
  },
  {
   "cell_type": "code",
   "execution_count": 46,
   "metadata": {},
   "outputs": [
    {
     "data": {
      "text/plain": [
       "[-10, -9, -8, -7, -6]"
      ]
     },
     "execution_count": 46,
     "metadata": {},
     "output_type": "execute_result"
    }
   ],
   "source": [
    "list(range(-10,-5))"
   ]
  },
  {
   "cell_type": "markdown",
   "metadata": {},
   "source": [
    "# Nested For loop"
   ]
  },
  {
   "cell_type": "code",
   "execution_count": null,
   "metadata": {},
   "outputs": [],
   "source": [
    "for loop inside for loop"
   ]
  },
  {
   "cell_type": "raw",
   "metadata": {},
   "source": [
    "for var_name in sequence:\n",
    "    statements\n",
    "    statements\n",
    "    for var_name2 in sequence2:\n",
    "        statements\n",
    "        statements"
   ]
  },
  {
   "cell_type": "code",
   "execution_count": 5,
   "metadata": {},
   "outputs": [
    {
     "name": "stdout",
     "output_type": "stream",
     "text": [
      "List1 Items\n",
      "20\n",
      "30\n",
      "40\n",
      "60\n",
      "List2 items\n",
      "100\n",
      "200\n"
     ]
    }
   ],
   "source": [
    "l1 = [20,30,40,60]\n",
    "l2 = [100,200]\n",
    "\n",
    "print('List1 Items')\n",
    "for num in l1:\n",
    "    print(num)\n",
    "    \n",
    "print(\"List2 items\")\n",
    "for num2 in l2:\n",
    "    print(num2)"
   ]
  },
  {
   "cell_type": "code",
   "execution_count": 31,
   "metadata": {},
   "outputs": [
    {
     "name": "stdout",
     "output_type": "stream",
     "text": [
      "Number in list 1 in : 20\n",
      "***********\n",
      "hello\n",
      "hello\n",
      "\n",
      "Number in list 1 in : 30\n",
      "***********\n",
      "hello\n",
      "hello\n",
      "\n",
      "Number in list 1 in : 40\n",
      "***********\n",
      "hello\n",
      "hello\n",
      "\n",
      "Number in list 1 in : 60\n",
      "***********\n",
      "hello\n",
      "hello\n",
      "\n"
     ]
    }
   ],
   "source": [
    "l1 = [20,30,40,60]\n",
    "l2 = [100,200]\n",
    "\n",
    "for num in l1: # num = 30\n",
    "    print(\"Number in list 1 in :\",num)  # 20\n",
    "    print(\"***********\")   \n",
    "    for num2 in l2:  #\n",
    "        print('hello')   # 100, 200\n",
    "        \n",
    "    print()\n"
   ]
  },
  {
   "cell_type": "code",
   "execution_count": 29,
   "metadata": {},
   "outputs": [
    {
     "name": "stdout",
     "output_type": "stream",
     "text": [
      "Number in list 1 in : 20\n",
      "***********\n",
      "100\n",
      "200\n",
      "Number in list 1 in : 30\n",
      "***********\n",
      "100\n",
      "200\n",
      "Number in list 1 in : 40\n",
      "***********\n",
      "100\n",
      "200\n",
      "Number in list 1 in : 60\n",
      "***********\n",
      "100\n",
      "200\n",
      "\n"
     ]
    }
   ],
   "source": [
    "l1 = [20,30,40,60]\n",
    "l2 = [100,200]\n",
    "\n",
    "for num in l1: # num = 30\n",
    "    print(\"Number in list 1 in :\",num)  # 20\n",
    "    print(\"***********\")   \n",
    "    for num2 in l2:  #\n",
    "        print(num2)\n",
    "                   \n",
    "            \n",
    "print()"
   ]
  },
  {
   "cell_type": "code",
   "execution_count": 26,
   "metadata": {},
   "outputs": [
    {
     "name": "stdout",
     "output_type": "stream",
     "text": [
      "Char is : p\n",
      "*****\n",
      "*****\n",
      "*****\n",
      "*****\n",
      "*****\n",
      "\n",
      "Char is : y\n",
      "*****\n",
      "*****\n",
      "*****\n",
      "*****\n",
      "*****\n",
      "\n",
      "Char is : t\n",
      "*****\n",
      "*****\n",
      "*****\n",
      "*****\n",
      "*****\n",
      "\n",
      "Char is : h\n",
      "*****\n",
      "*****\n",
      "*****\n",
      "*****\n",
      "*****\n",
      "\n",
      "Char is : o\n",
      "*****\n",
      "*****\n",
      "*****\n",
      "*****\n",
      "*****\n",
      "\n",
      "Char is : n\n",
      "*****\n",
      "*****\n",
      "*****\n",
      "*****\n",
      "*****\n",
      "\n"
     ]
    }
   ],
   "source": [
    "s1 = 'python'\n",
    "\n",
    "for char in s1:  # 6 \n",
    "    print(\"Char is :\",char)\n",
    "    for i in range(5): \n",
    "        print(\"*****\")\n",
    "        \n",
    "    print(end = '\\n')"
   ]
  },
  {
   "cell_type": "code",
   "execution_count": 99,
   "metadata": {},
   "outputs": [
    {
     "name": "stdout",
     "output_type": "stream",
     "text": [
      "Iteration num is : 0\n",
      "python\n",
      "python\n",
      "python\n",
      "\n",
      "Iteration num is : 1\n",
      "python\n",
      "python\n",
      "python\n",
      "\n",
      "Iteration num is : 2\n",
      "python\n",
      "python\n",
      "python\n",
      "\n",
      "Iteration num is : 3\n",
      "python\n",
      "python\n",
      "python\n",
      "\n",
      "Iteration num is : 4\n",
      "python\n",
      "python\n",
      "python\n",
      "\n"
     ]
    }
   ],
   "source": [
    "s1 = 'python'\n",
    "\n",
    "for i in range(5):  # 5\n",
    "    print(\"Iteration num is :\",i)\n",
    "    for i in range(3):\n",
    "        print(s1)\n",
    "    print()"
   ]
  },
  {
   "cell_type": "markdown",
   "metadata": {},
   "source": [
    "# Patterns"
   ]
  },
  {
   "cell_type": "code",
   "execution_count": 110,
   "metadata": {},
   "outputs": [
    {
     "name": "stdout",
     "output_type": "stream",
     "text": [
      "* * * * * \n",
      "* * * * * \n",
      "* * * * * \n",
      "* * * * * \n",
      "* * * * * \n"
     ]
    }
   ],
   "source": [
    "for i in range(5): # i = 0\n",
    "    for j in range(5):\n",
    "        print(\"*\",end = ' ')\n",
    "    print(end = '\\n')"
   ]
  },
  {
   "cell_type": "code",
   "execution_count": 112,
   "metadata": {},
   "outputs": [
    {
     "name": "stdout",
     "output_type": "stream",
     "text": [
      "* * * * * \n",
      "* * * * * \n",
      "* * * * * \n",
      "* * * * * \n",
      "* * * * * \n"
     ]
    }
   ],
   "source": [
    "n = 5\n",
    "for i in range(0,n):  # 5\n",
    "    for j in range(n):\n",
    "        print(\"*\",end = ' ')\n",
    "    print(end = '\\n')"
   ]
  },
  {
   "cell_type": "code",
   "execution_count": 116,
   "metadata": {},
   "outputs": [
    {
     "name": "stdout",
     "output_type": "stream",
     "text": [
      "* \n",
      "* * \n",
      "* * * \n",
      "* * * * \n",
      "* * * * * \n"
     ]
    }
   ],
   "source": [
    "n = 5\n",
    "for i in range(1,n+1):  # i = 5\n",
    "    for j in range(i): # j = 0,1,2,3,4\n",
    "        print(\"*\",end = ' ')\n",
    "    print()"
   ]
  },
  {
   "cell_type": "raw",
   "metadata": {},
   "source": [
    "* * * * *\n",
    "* * * * \n",
    "* * *\n",
    "* * \n",
    "* "
   ]
  },
  {
   "cell_type": "code",
   "execution_count": 122,
   "metadata": {},
   "outputs": [
    {
     "name": "stdout",
     "output_type": "stream",
     "text": [
      "* * * * * \n",
      "* * * * \n",
      "* * * \n",
      "* * \n",
      "* \n"
     ]
    }
   ],
   "source": [
    "n = 5\n",
    "for i in range(n,0,-1): \n",
    "    for j in range(i):\n",
    "        print(\"*\",end = ' ')\n",
    "    print()"
   ]
  },
  {
   "cell_type": "code",
   "execution_count": 136,
   "metadata": {},
   "outputs": [
    {
     "name": "stdout",
     "output_type": "stream",
     "text": [
      "* * * * * \n",
      "* * * * \n",
      "* * * \n",
      "* * \n",
      "* \n"
     ]
    }
   ],
   "source": [
    "n = 5\n",
    "for i in range(n,0,-1):  # 5\n",
    "    for j in range(i):\n",
    "        print(\"*\",end = ' ')\n",
    "    print(end = '\\n')"
   ]
  },
  {
   "cell_type": "code",
   "execution_count": 139,
   "metadata": {},
   "outputs": [
    {
     "data": {
      "text/plain": [
       "'d'"
      ]
     },
     "execution_count": 139,
     "metadata": {},
     "output_type": "execute_result"
    }
   ],
   "source": [
    "n = 100\n",
    "chr(n) "
   ]
  },
  {
   "cell_type": "code",
   "execution_count": 135,
   "metadata": {},
   "outputs": [
    {
     "data": {
      "text/plain": [
       "'z'"
      ]
     },
     "execution_count": 135,
     "metadata": {},
     "output_type": "execute_result"
    }
   ],
   "source": [
    "chr(65) # A\n",
    "chr(90) # Z\n",
    "\n",
    "chr(97) # a\n",
    "chr(122) #z"
   ]
  },
  {
   "cell_type": "code",
   "execution_count": 143,
   "metadata": {},
   "outputs": [
    {
     "name": "stdout",
     "output_type": "stream",
     "text": [
      "d d d d d \n",
      "d d d d d \n",
      "d d d d d \n",
      "d d d d d \n",
      "d d d d d \n"
     ]
    }
   ],
   "source": [
    "n = 5\n",
    "for i in range(n):  # 5\n",
    "    for j in range(n):\n",
    "        print(chr(100),end = ' ')\n",
    "    print(end = '\\n')"
   ]
  },
  {
   "cell_type": "code",
   "execution_count": 145,
   "metadata": {},
   "outputs": [
    {
     "name": "stdout",
     "output_type": "stream",
     "text": [
      "A A A A A \n",
      "A A A A A \n",
      "A A A A A \n",
      "A A A A A \n",
      "A A A A A \n"
     ]
    }
   ],
   "source": [
    "n = 5\n",
    "c = 65\n",
    "for i in range(n):  # 5\n",
    "    for j in range(n):\n",
    "        print(chr(c),end = ' ')\n",
    "    print(end = '\\n')"
   ]
  },
  {
   "cell_type": "code",
   "execution_count": 147,
   "metadata": {},
   "outputs": [
    {
     "name": "stdout",
     "output_type": "stream",
     "text": [
      "A B C D E \n",
      "F G H I J \n",
      "K L M N O \n",
      "P Q R S T \n",
      "U V W X Y \n"
     ]
    }
   ],
   "source": [
    "n = 5\n",
    "c = 65\n",
    "for i in range(n):  # 5\n",
    "    for j in range(n):\n",
    "        print(chr(c),end = ' ')\n",
    "        c += 1\n",
    "    print(end = '\\n')"
   ]
  },
  {
   "cell_type": "code",
   "execution_count": 149,
   "metadata": {},
   "outputs": [
    {
     "name": "stdout",
     "output_type": "stream",
     "text": [
      "a b c d e \n",
      "f g h i j \n",
      "k l m n o \n",
      "p q r s t \n",
      "u v w x y \n"
     ]
    }
   ],
   "source": [
    "n = 5\n",
    "c = 97\n",
    "for i in range(n):  # 5\n",
    "    for j in range(n):\n",
    "        print(chr(c),end = ' ')\n",
    "        c += 1\n",
    "    print(end = '\\n')"
   ]
  },
  {
   "cell_type": "code",
   "execution_count": 152,
   "metadata": {},
   "outputs": [
    {
     "name": "stdout",
     "output_type": "stream",
     "text": [
      "a \n",
      "b c \n",
      "d e f \n",
      "g h i j \n",
      "k l m n o \n"
     ]
    }
   ],
   "source": [
    "n = 5\n",
    "c = 97\n",
    "for i in range(1,n+1):  # 5\n",
    "    for j in range(i):\n",
    "        print(chr(c),end = ' ')\n",
    "        c += 1\n",
    "    print(end = '\\n')"
   ]
  },
  {
   "cell_type": "code",
   "execution_count": 153,
   "metadata": {},
   "outputs": [
    {
     "name": "stdout",
     "output_type": "stream",
     "text": [
      "a b c d e \n",
      "f g h i \n",
      "j k l \n",
      "m n \n",
      "o \n"
     ]
    }
   ],
   "source": [
    "n = 5\n",
    "c = 97\n",
    "for i in range(n,0,-1):  # 5\n",
    "    for j in range(i):\n",
    "        print(chr(c),end = ' ')\n",
    "        c += 1\n",
    "    print(end = '\\n')"
   ]
  },
  {
   "cell_type": "code",
   "execution_count": 158,
   "metadata": {},
   "outputs": [
    {
     "name": "stdout",
     "output_type": "stream",
     "text": [
      "0 1 2 3 4 \n",
      "0 1 2 3 4 \n",
      "0 1 2 3 4 \n",
      "0 1 2 3 4 \n",
      "0 1 2 3 4 \n"
     ]
    }
   ],
   "source": [
    "n = 5\n",
    "\n",
    "for i in range(n):  # 5\n",
    "    for j in range(n):\n",
    "        print(j,end = ' ')\n",
    "    print(end = '\\n')"
   ]
  },
  {
   "cell_type": "code",
   "execution_count": 162,
   "metadata": {},
   "outputs": [
    {
     "name": "stdout",
     "output_type": "stream",
     "text": [
      "1 2 3 4 5 \n",
      "6 7 8 9 10 \n",
      "11 12 13 14 15 \n",
      "16 17 18 19 20 \n",
      "21 22 23 24 25 \n"
     ]
    }
   ],
   "source": [
    "n = 5\n",
    "num = 1\n",
    "for i in range(n):  # 5\n",
    "    for j in range(n):\n",
    "        print(num,end = ' ')\n",
    "        num += 1\n",
    "    print(end = '\\n')"
   ]
  },
  {
   "cell_type": "code",
   "execution_count": 164,
   "metadata": {},
   "outputs": [
    {
     "name": "stdout",
     "output_type": "stream",
     "text": [
      "1 2 3 4 5 \n",
      "1 2 3 4 5 \n",
      "1 2 3 4 5 \n",
      "1 2 3 4 5 \n",
      "1 2 3 4 5 \n"
     ]
    }
   ],
   "source": [
    "n = 5\n",
    "for i in range(n):  # 5\n",
    "    num = 1\n",
    "    for j in range(n):\n",
    "        print(num,end = ' ')\n",
    "        num += 1\n",
    "    print()"
   ]
  },
  {
   "cell_type": "code",
   "execution_count": 169,
   "metadata": {},
   "outputs": [
    {
     "name": "stdout",
     "output_type": "stream",
     "text": [
      "1 \n",
      "1 2 \n",
      "1 2 3 \n",
      "1 2 3 4 \n",
      "1 2 3 4 5 \n"
     ]
    }
   ],
   "source": [
    "n = 5\n",
    "for i in range(1,n+1):  # 5\n",
    "    num = 1\n",
    "    for j in range(i):\n",
    "        print(num,end = ' ')\n",
    "        num += 1\n",
    "    print()"
   ]
  },
  {
   "cell_type": "code",
   "execution_count": 8,
   "metadata": {},
   "outputs": [
    {
     "name": "stdout",
     "output_type": "stream",
     "text": [
      "1 \n",
      "1 3 \n",
      "1 3 5 \n",
      "1 3 5 7 \n",
      "1 3 5 7 9 \n"
     ]
    }
   ],
   "source": [
    "n = 5\n",
    "num=1\n",
    "for i in range(1,n+1):  # 5\n",
    "    num = 1\n",
    "    for j in range(i):\n",
    "        print(num,end = ' ')\n",
    "        num += 2\n",
    "    print()"
   ]
  },
  {
   "cell_type": "code",
   "execution_count": 49,
   "metadata": {},
   "outputs": [
    {
     "name": "stdout",
     "output_type": "stream",
     "text": [
      "Enter the size of n: 3\n",
      "            + 0\n",
      "           + + 0\n",
      "          + + + 0\n"
     ]
    }
   ],
   "source": [
    "n=int(input(\"Enter the size of n: \"))\n",
    "m=(n*6)-6\n",
    "\n",
    "for i in range(0,n):\n",
    "    for j in range(0,m):\n",
    "        print(end = \" \")\n",
    "    m=m-1\n",
    "    for j in range(0,i+1):      \n",
    "        print(\"+\",end = \" \")\n",
    "        \n",
    "    print(\"0\")"
   ]
  }
 ],
 "metadata": {
  "kernelspec": {
   "display_name": "Python 3",
   "language": "python",
   "name": "python3"
  },
  "language_info": {
   "codemirror_mode": {
    "name": "ipython",
    "version": 3
   },
   "file_extension": ".py",
   "mimetype": "text/x-python",
   "name": "python",
   "nbconvert_exporter": "python",
   "pygments_lexer": "ipython3",
   "version": "3.8.8"
  }
 },
 "nbformat": 4,
 "nbformat_minor": 4
}
