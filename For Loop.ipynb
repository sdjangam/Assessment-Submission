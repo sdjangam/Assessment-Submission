{
 "cells": [
  {
   "cell_type": "markdown",
   "id": "adapted-specification",
   "metadata": {},
   "source": [
    "### Q: WAP to print Fibonacci series"
   ]
  },
  {
   "cell_type": "raw",
   "id": "satellite-winning",
   "metadata": {},
   "source": [
    "0 1 1 2 3 5 8 13 21 ....\n",
    "\n",
    "n = 10\n",
    "0 1 1 2 3 5 8 13 21 34\n",
    "\n",
    "n = 8\n",
    "0 1 1 2 3 5 8 13\n",
    "\n",
    "n = 5\n",
    "0 1 1 2 3"
   ]
  },
  {
   "cell_type": "code",
   "execution_count": 4,
   "id": "viral-medicaid",
   "metadata": {},
   "outputs": [
    {
     "name": "stdout",
     "output_type": "stream",
     "text": [
      "0 1 1 2 3 5 8 13 21 34 "
     ]
    }
   ],
   "source": [
    "n = 10\n",
    "a=0\n",
    "b=1\n",
    "for i in range (n):      #i=1\n",
    "    print(a, end = ' ')  #0 1 \n",
    "    a,b=b,a+b\n",
    "    "
   ]
  },
  {
   "cell_type": "code",
   "execution_count": 4,
   "id": "endless-munich",
   "metadata": {},
   "outputs": [
    {
     "name": "stdout",
     "output_type": "stream",
     "text": [
      "0 1 1 2 3 "
     ]
    }
   ],
   "source": [
    "n = 5\n",
    "a = 0\n",
    "b = 1\n",
    "for i in range (n):  # i = 2\n",
    "    print(a,end = ' ') # 0 1 1\n",
    "    a, b = b, a+b       # a = 1 , b = 2\n"
   ]
  },
  {
   "cell_type": "code",
   "execution_count": null,
   "id": "direct-plaintiff",
   "metadata": {},
   "outputs": [],
   "source": [
    "n = 5\n",
    "a = 0\n",
    "b = 1\n",
    "for i in range (n):  # i = 2\n",
    "    print(a, end = ' ') # 0 1 1\n",
    "    a, b = b, a+b       # a = 1 , b = 2\n"
   ]
  },
  {
   "cell_type": "code",
   "execution_count": 23,
   "id": "cooperative-collectible",
   "metadata": {},
   "outputs": [
    {
     "name": "stdout",
     "output_type": "stream",
     "text": [
      "Fibonacci Series for 15 is : 0 1 1 2 3 5 8 13 21 34 55 89 144 233 377 "
     ]
    }
   ],
   "source": [
    "n = 15\n",
    "first = 0\n",
    "second = 1\n",
    "\n",
    "print(f'Fibonacci Series for {n} is : {first} {second} ',end= '')\n",
    "for i in range(n-2):\n",
    "    new = first + second\n",
    "    first = second \n",
    "    second = new\n",
    "    \n",
    "    print(new, end = ' ')\n",
    "    "
   ]
  },
  {
   "cell_type": "code",
   "execution_count": 4,
   "id": "13077221",
   "metadata": {},
   "outputs": [
    {
     "name": "stdout",
     "output_type": "stream",
     "text": [
      "Fibonacci Series for 15 is : 0 1 1 2 3 5 8 13 21 34 55 89 144 233 377 "
     ]
    }
   ],
   "source": [
    "n = 15\n",
    "first = 0\n",
    "second = 1\n",
    "\n",
    "print(f'Fibonacci Series for {n} is : {first} {second} ',end= '')\n",
    "for i in range(n-2):\n",
    "    new = first + second\n",
    "    \n",
    "    print(new, end = ' ')\n",
    "    first = second \n",
    "    second = new\n",
    "    \n",
    "   \n",
    "    "
   ]
  },
  {
   "cell_type": "markdown",
   "id": "removed-award",
   "metadata": {},
   "source": [
    "# Pattern"
   ]
  },
  {
   "cell_type": "code",
   "execution_count": 19,
   "id": "confidential-forwarding",
   "metadata": {},
   "outputs": [
    {
     "name": "stdout",
     "output_type": "stream",
     "text": [
      "* * * * * \n",
      "* * * * * \n",
      "* * * * * \n",
      "* * * * * \n",
      "* * * * * \n"
     ]
    }
   ],
   "source": [
    "n = 5\n",
    "for i in range(n):\n",
    "    for j in range(n):\n",
    "        print('*',end=' ')\n",
    "    print()"
   ]
  },
  {
   "cell_type": "code",
   "execution_count": null,
   "id": "commercial-abraham",
   "metadata": {},
   "outputs": [],
   "source": [
    "    *\n",
    "   **\n",
    "  ***\n",
    " ****\n",
    "*****"
   ]
  },
  {
   "cell_type": "code",
   "execution_count": 28,
   "id": "played-relative",
   "metadata": {},
   "outputs": [
    {
     "name": "stdout",
     "output_type": "stream",
     "text": [
      "        * \n",
      "      * * \n",
      "    * * * \n",
      "  * * * * \n",
      "* * * * * \n"
     ]
    }
   ],
   "source": [
    "n = 5\n",
    "for i in range(1,n+1):\n",
    "    print(\"  \" * (n-i)  + \"* \" * i)"
   ]
  },
  {
   "cell_type": "code",
   "execution_count": 53,
   "id": "e4cd02f6",
   "metadata": {},
   "outputs": [
    {
     "name": "stdout",
     "output_type": "stream",
     "text": [
      "        * \n",
      "      * * \n",
      "    * * * \n",
      "  * * * * \n",
      "* * * * * \n"
     ]
    }
   ],
   "source": [
    "n = 5\n",
    "for i in range(1,n+1):\n",
    "    print(\"  \" * (n-i) + \"* \" * i)"
   ]
  },
  {
   "cell_type": "code",
   "execution_count": 31,
   "id": "defensive-literacy",
   "metadata": {},
   "outputs": [
    {
     "name": "stdout",
     "output_type": "stream",
     "text": [
      "    *\n",
      "   **\n",
      "  ***\n",
      " ****\n",
      "*****\n"
     ]
    }
   ],
   "source": [
    "n = 5\n",
    "for i in range(1,n+1):\n",
    "    print(\" \" * (n-i)  + \"*\" * i)"
   ]
  },
  {
   "cell_type": "code",
   "execution_count": 55,
   "id": "organizational-playback",
   "metadata": {},
   "outputs": [
    {
     "name": "stdout",
     "output_type": "stream",
     "text": [
      "        1 \n",
      "      2 2 \n",
      "    3 3 3 \n",
      "  4 4 4 4 \n",
      "5 5 5 5 5 \n"
     ]
    }
   ],
   "source": [
    "n = 5\n",
    "for i in range(1,n+1):\n",
    "    print(\"  \" * (n-i)  + f\"{i} \" * i)   # \" \"- sapce\n",
    "    \n",
    "    "
   ]
  },
  {
   "cell_type": "code",
   "execution_count": null,
   "id": "vital-nutrition",
   "metadata": {},
   "outputs": [],
   "source": [
    "*\n",
    "**\n",
    "***\n",
    "**\n",
    "*"
   ]
  },
  {
   "cell_type": "code",
   "execution_count": 57,
   "id": "graphic-secretary",
   "metadata": {},
   "outputs": [
    {
     "name": "stdout",
     "output_type": "stream",
     "text": [
      "* \n",
      "* * \n",
      "* * * \n",
      "* * * * \n",
      "* * * * * \n",
      "* * * * \n",
      "* * * \n",
      "* * \n",
      "* \n"
     ]
    }
   ],
   "source": [
    "n = 5\n",
    "for i in range(1,n+1):\n",
    "    for j in range(i):\n",
    "        print('*',end = ' ')\n",
    "    print()\n",
    "    \n",
    "for i in range(n-1,0,-1):\n",
    "    for j in range(i):\n",
    "        print('*',end = ' ')\n",
    "    print()"
   ]
  },
  {
   "cell_type": "code",
   "execution_count": 44,
   "id": "acknowledged-election",
   "metadata": {},
   "outputs": [
    {
     "name": "stdout",
     "output_type": "stream",
     "text": [
      "A \n",
      "B C \n",
      "D E F \n",
      "G H I J \n",
      "K L M N O \n",
      "P Q R S \n",
      "T U V \n",
      "W X \n",
      "Y \n"
     ]
    }
   ],
   "source": [
    "n = 5\n",
    "upper = 65\n",
    "for i in range(1,n+1):\n",
    "    for j in range(i):\n",
    "        print(chr(upper),end = ' ')\n",
    "        upper += 1\n",
    "    print()\n",
    "    \n",
    "for i in range(n-1,0,-1):\n",
    "    for j in range(i):\n",
    "        print(chr(upper),end = ' ')\n",
    "        upper += 1\n",
    "    print()"
   ]
  },
  {
   "cell_type": "code",
   "execution_count": 47,
   "id": "differential-monkey",
   "metadata": {},
   "outputs": [
    {
     "name": "stdout",
     "output_type": "stream",
     "text": [
      "a \n",
      "b c \n",
      "d e f \n",
      "g h i j \n",
      "k l m n o \n",
      "p q r s \n",
      "t u v \n",
      "w x \n",
      "y \n"
     ]
    }
   ],
   "source": [
    "n = 5\n",
    "lower = 97\n",
    "for i in range(1,n+1):\n",
    "    for j in range(i):\n",
    "        print(chr(lower),end = ' ')\n",
    "        lower += 1\n",
    "    print()\n",
    "    \n",
    "for i in range(n-1,0,-1):\n",
    "    for j in range(i):\n",
    "        print(chr(lower),end = ' ')\n",
    "        lower += 1\n",
    "    print()"
   ]
  },
  {
   "cell_type": "code",
   "execution_count": 49,
   "id": "vital-break",
   "metadata": {},
   "outputs": [
    {
     "name": "stdout",
     "output_type": "stream",
     "text": [
      "A \n",
      "A B \n",
      "A B C \n",
      "A B C D \n",
      "A B C D E \n"
     ]
    }
   ],
   "source": [
    "n = 5\n",
    "for i in range(1,n+1):\n",
    "    upper = 65\n",
    "    for j in range(i):\n",
    "        print(chr(upper),end = ' ')\n",
    "        upper += 1\n",
    "    print()"
   ]
  }
 ],
 "metadata": {
  "kernelspec": {
   "display_name": "Python 3",
   "language": "python",
   "name": "python3"
  },
  "language_info": {
   "codemirror_mode": {
    "name": "ipython",
    "version": 3
   },
   "file_extension": ".py",
   "mimetype": "text/x-python",
   "name": "python",
   "nbconvert_exporter": "python",
   "pygments_lexer": "ipython3",
   "version": "3.8.8"
  }
 },
 "nbformat": 4,
 "nbformat_minor": 5
}
