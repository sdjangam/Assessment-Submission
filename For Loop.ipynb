{
 "cells": [
  {
   "cell_type": "markdown",
   "id": "other-identification",
   "metadata": {},
   "source": [
    "# Loops in Python"
   ]
  },
  {
   "cell_type": "raw",
   "id": "communist-confidence",
   "metadata": {},
   "source": [
    "1. for \n",
    "2. while\n",
    "\n",
    "same functionality but differnt syntax and condition checking \n",
    "It executes set of statements\n"
   ]
  },
  {
   "cell_type": "markdown",
   "id": "reported-criminal",
   "metadata": {},
   "source": [
    "# 1. For Loop"
   ]
  },
  {
   "cell_type": "raw",
   "id": "private-austria",
   "metadata": {},
   "source": [
    "It works like an iterator\n",
    "Sequence>> str,list,tuple,set,dict"
   ]
  },
  {
   "cell_type": "raw",
   "id": "digital-trail",
   "metadata": {},
   "source": [
    "for variable_name in sequences:\n",
    "    print(variable_name)\n"
   ]
  },
  {
   "cell_type": "markdown",
   "id": "coastal-interaction",
   "metadata": {},
   "source": [
    "# 1. for loop using string"
   ]
  },
  {
   "cell_type": "code",
   "execution_count": 8,
   "id": "valued-telling",
   "metadata": {},
   "outputs": [
    {
     "name": "stdout",
     "output_type": "stream",
     "text": [
      "Python is programming language\n",
      "Python is programming language\n",
      "Python is programming language\n",
      "Python is programming language\n",
      "Python is programming language\n"
     ]
    },
    {
     "data": {
      "text/plain": [
       "30"
      ]
     },
     "execution_count": 8,
     "metadata": {},
     "output_type": "execute_result"
    }
   ],
   "source": [
    "string = 'Python is programming language'\n",
    "\n",
    "# 10 time\n",
    "print(string)\n",
    "print(string)\n",
    "print(string)\n",
    "print(string)\n",
    "print(string)\n",
    "len(string)"
   ]
  },
  {
   "cell_type": "code",
   "execution_count": 3,
   "id": "unable-virus",
   "metadata": {},
   "outputs": [
    {
     "name": "stdout",
     "output_type": "stream",
     "text": [
      "this is python program\n",
      "this is python program\n",
      "this is python program\n",
      "this is python program\n",
      "this is python program\n",
      "this is python program\n",
      "this is python program\n",
      "this is python program\n",
      "this is python program\n",
      "this is python program\n",
      "this is python program\n",
      "this is python program\n",
      "this is python program\n",
      "this is python program\n",
      "this is python program\n",
      "this is python program\n",
      "this is python program\n",
      "this is python program\n",
      "this is python program\n",
      "this is python program\n",
      "this is python program\n",
      "this is python program\n"
     ]
    }
   ],
   "source": [
    "s='this is python program'\n",
    "l = len(s)\n",
    "for i in range(l):  # 0 to 4\n",
    "    print(s)"
   ]
  },
  {
   "cell_type": "raw",
   "id": "85f67eac",
   "metadata": {},
   "source": [
    "The range() function returns a sequence of numbers, starting from 0 by default, and increments by 1 (by default), and ends at a specified number.\n"
   ]
  },
  {
   "cell_type": "code",
   "execution_count": 15,
   "id": "czech-poultry",
   "metadata": {},
   "outputs": [
    {
     "name": "stdout",
     "output_type": "stream",
     "text": [
      "10 this is python program\n",
      "11 this is python program\n",
      "12 this is python program\n",
      "13 this is python program\n",
      "14 this is python program\n",
      "15 this is python program\n",
      "16 this is python program\n",
      "17 this is python program\n",
      "18 this is python program\n",
      "19 this is python program\n"
     ]
    }
   ],
   "source": [
    "for i in range(10,20):  \n",
    "    print(i, s)"
   ]
  },
  {
   "cell_type": "code",
   "execution_count": 17,
   "id": "floral-given",
   "metadata": {},
   "outputs": [
    {
     "name": "stdout",
     "output_type": "stream",
     "text": [
      "p\n",
      "Data Science\n",
      "Machine Learning\n",
      "y\n",
      "Data Science\n",
      "Machine Learning\n",
      "t\n",
      "Data Science\n",
      "Machine Learning\n",
      "h\n",
      "Data Science\n",
      "Machine Learning\n",
      "o\n",
      "Data Science\n",
      "Machine Learning\n",
      "n\n",
      "Data Science\n",
      "Machine Learning\n"
     ]
    }
   ],
   "source": [
    "string = 'python' # 6\n",
    "for i in string:  # 6 iteration\n",
    "    print(i)\n",
    "    print('Data Science')  \n",
    "    print(\"Machine Learning\")"
   ]
  },
  {
   "cell_type": "code",
   "execution_count": 19,
   "id": "surprised-registrar",
   "metadata": {},
   "outputs": [
    {
     "name": "stdout",
     "output_type": "stream",
     "text": [
      "python\n",
      "Data Science\n",
      "Machine Learning\n",
      "\n",
      "class\n",
      "Data Science\n",
      "Machine Learning\n",
      "\n",
      "pune\n",
      "Data Science\n",
      "Machine Learning\n",
      "\n"
     ]
    }
   ],
   "source": [
    "string = 'python class pune' # 6\n",
    "for i in string.split():  # 3 iteration\n",
    "    print(i)\n",
    "    print('Data Science')  \n",
    "    print(\"Machine Learning\")\n",
    "    print()                   # for space"
   ]
  },
  {
   "cell_type": "code",
   "execution_count": 32,
   "id": "extraordinary-nylon",
   "metadata": {},
   "outputs": [
    {
     "data": {
      "text/plain": [
       "['p', 'y', 't', 'h', 'o', 'n']"
      ]
     },
     "execution_count": 32,
     "metadata": {},
     "output_type": "execute_result"
    }
   ],
   "source": [
    "string = 'python' # 6\n",
    "list(string)    # using list constructor"
   ]
  },
  {
   "cell_type": "markdown",
   "id": "crude-shuttle",
   "metadata": {},
   "source": [
    "# 2. for loop using list"
   ]
  },
  {
   "cell_type": "code",
   "execution_count": 34,
   "id": "meaningful-paris",
   "metadata": {},
   "outputs": [
    {
     "name": "stdout",
     "output_type": "stream",
     "text": [
      "2\n",
      "3\n",
      "4\n",
      "1\n",
      "6\n",
      "python\n",
      "class\n"
     ]
    }
   ],
   "source": [
    "list1 = [2,3,4,1,6,'python','class']  # 7\n",
    "for i in list1:  \n",
    "    print(i)   "
   ]
  },
  {
   "cell_type": "code",
   "execution_count": 40,
   "id": "statewide-syndrome",
   "metadata": {},
   "outputs": [
    {
     "name": "stdout",
     "output_type": "stream",
     "text": [
      "python\n",
      "class\n"
     ]
    }
   ],
   "source": [
    "list1 = [2,3,4,1,6,'python','class']  # 7\n",
    "for i in list1:  \n",
    "    if type(i) == str:\n",
    "        print(i)"
   ]
  },
  {
   "cell_type": "code",
   "execution_count": 43,
   "id": "sunset-conflict",
   "metadata": {},
   "outputs": [
    {
     "name": "stdout",
     "output_type": "stream",
     "text": [
      "we are testing for loop\n",
      "we are testing for loop\n",
      "we are testing for loop\n",
      "we are testing for loop\n",
      "we are testing for loop\n",
      "we are testing for loop\n",
      "we are testing for loop\n"
     ]
    }
   ],
   "source": [
    "list1 = [2,3,4,1,6,'python','class']\n",
    "for i in range(len(list1)):\n",
    "    print(\"we are testing for loop\")"
   ]
  },
  {
   "cell_type": "code",
   "execution_count": 45,
   "id": "resistant-inspection",
   "metadata": {},
   "outputs": [
    {
     "name": "stdout",
     "output_type": "stream",
     "text": [
      "we are testing for loop\n",
      "we are testing for loop\n",
      "we are testing for loop\n"
     ]
    }
   ],
   "source": [
    "list1 = [2,3,4,1,6,'python','class']\n",
    "for i in range(3):\n",
    "    print(\"we are testing for loop\")"
   ]
  },
  {
   "cell_type": "markdown",
   "id": "executive-amplifier",
   "metadata": {},
   "source": [
    "# 3. for loop using tuple"
   ]
  },
  {
   "cell_type": "code",
   "execution_count": 47,
   "id": "better-classification",
   "metadata": {},
   "outputs": [
    {
     "name": "stdout",
     "output_type": "stream",
     "text": [
      "10\n",
      "20\n",
      "30\n",
      "100\n",
      "200\n",
      "300\n"
     ]
    }
   ],
   "source": [
    "tuple1 = (10,20,30,100,200,300)\n",
    "\n",
    "for i in tuple1:\n",
    "    print(i)"
   ]
  },
  {
   "cell_type": "code",
   "execution_count": 53,
   "id": "important-greene",
   "metadata": {},
   "outputs": [
    {
     "name": "stdout",
     "output_type": "stream",
     "text": [
      "0 python\n",
      "1 20\n",
      "2 30\n",
      "3 100\n",
      "4 200\n",
      "5 300\n",
      "20\n"
     ]
    }
   ],
   "source": [
    "tuple1 = ('python',20,30,100,200,300)\n",
    "count = 0\n",
    "for val in tuple1:  # i = 'python'\n",
    "    print(count, val) # 0 , python\n",
    "    count += 1\n",
    "    \n",
    "val = 'python'  \n",
    "val = 20\n",
    "print(val)\n"
   ]
  },
  {
   "cell_type": "code",
   "execution_count": 54,
   "id": "phantom-balloon",
   "metadata": {},
   "outputs": [
    {
     "name": "stdout",
     "output_type": "stream",
     "text": [
      "200\n"
     ]
    }
   ],
   "source": [
    "a = 100\n",
    "a = 200\n",
    "print(a)"
   ]
  },
  {
   "cell_type": "markdown",
   "id": "buried-fruit",
   "metadata": {},
   "source": [
    "# enumerate function "
   ]
  },
  {
   "cell_type": "raw",
   "id": "danish-johns",
   "metadata": {},
   "source": [
    "for index,value in enumerate(sequence):\n",
    "    print(index,value)\n",
    "    print('We are testing enumerate function')"
   ]
  },
  {
   "cell_type": "code",
   "execution_count": 59,
   "id": "deluxe-wayne",
   "metadata": {},
   "outputs": [
    {
     "name": "stdout",
     "output_type": "stream",
     "text": [
      "index[0] == p\n",
      "index[1] == y\n",
      "index[2] == t\n",
      "index[3] == h\n",
      "index[4] == o\n",
      "index[5] == n\n"
     ]
    }
   ],
   "source": [
    "sequence = 'python'\n",
    "for index,value in enumerate(sequence):\n",
    "    print(f'index[{index}] == {value}')\n",
    "#     print('We are testing enumerate function')"
   ]
  },
  {
   "cell_type": "code",
   "execution_count": 2,
   "id": "fa23ad90",
   "metadata": {},
   "outputs": [
    {
     "name": "stdout",
     "output_type": "stream",
     "text": [
      "index == p\n",
      "index == y\n",
      "index == t\n",
      "index == h\n",
      "index == o\n",
      "index == n\n"
     ]
    }
   ],
   "source": [
    "sequence = 'python'\n",
    "for value in sequence:\n",
    "    print(f'index == {value}')"
   ]
  },
  {
   "cell_type": "code",
   "execution_count": 61,
   "id": "rubber-peeing",
   "metadata": {},
   "outputs": [
    {
     "name": "stdout",
     "output_type": "stream",
     "text": [
      "value at index[0] is p\n",
      "value at index[1] is y\n",
      "value at index[2] is t\n",
      "value at index[3] is h\n",
      "value at index[4] is o\n",
      "value at index[5] is n\n"
     ]
    }
   ],
   "source": [
    "sequence = 'python'\n",
    "for index,value in enumerate(sequence):\n",
    "    print(f'value at index[{index}] is {value}')\n"
   ]
  },
  {
   "cell_type": "code",
   "execution_count": 62,
   "id": "compliant-cinema",
   "metadata": {},
   "outputs": [
    {
     "name": "stdout",
     "output_type": "stream",
     "text": [
      "p\n",
      "y\n",
      "t\n",
      "h\n",
      "o\n",
      "n\n"
     ]
    }
   ],
   "source": [
    "sequence = 'python'\n",
    "for index,value in enumerate(sequence):\n",
    "    print(value)\n"
   ]
  },
  {
   "cell_type": "code",
   "execution_count": 66,
   "id": "imperial-lafayette",
   "metadata": {},
   "outputs": [
    {
     "name": "stdout",
     "output_type": "stream",
     "text": [
      "value at index[0] is p\n",
      "value at index[1] is y\n",
      "value at index[2] is t\n",
      "value at index[3] is h\n",
      "value at index[4] is o\n",
      "value at index[5] is n\n"
     ]
    }
   ],
   "source": [
    "sequence = 'python'\n",
    "\n",
    "for index,char in enumerate(sequence):\n",
    "    print(f'value at index[{index}] is {char}')\n"
   ]
  },
  {
   "cell_type": "code",
   "execution_count": 68,
   "id": "front-humanitarian",
   "metadata": {},
   "outputs": [
    {
     "name": "stdout",
     "output_type": "stream",
     "text": [
      "value at index[0] is p\n",
      "value at index[1] is y\n",
      "value at index[2] is t\n",
      "value at index[3] is h\n",
      "value at index[4] is o\n",
      "value at index[5] is n\n"
     ]
    }
   ],
   "source": [
    "sequence = 'python'\n",
    "\n",
    "for k,char in enumerate(sequence):\n",
    "    print(f'value at index[{k}] is {char}')\n"
   ]
  },
  {
   "cell_type": "code",
   "execution_count": 70,
   "id": "appreciated-transfer",
   "metadata": {},
   "outputs": [
    {
     "name": "stdout",
     "output_type": "stream",
     "text": [
      "value at index[0] is Rohit\n",
      "value at index[1] is Virat\n",
      "value at index[2] is Rishabh\n"
     ]
    }
   ],
   "source": [
    "players_name = ['Rohit',\"Virat\",'Rishabh']\n",
    "\n",
    "for i,player in enumerate(players_name):\n",
    "    print(f'value at index[{i}] is {player}')\n",
    "\n",
    "    "
   ]
  },
  {
   "cell_type": "code",
   "execution_count": 72,
   "id": "framed-cocktail",
   "metadata": {},
   "outputs": [
    {
     "name": "stdout",
     "output_type": "stream",
     "text": [
      "Player Names is Rohit\n",
      "Player Names is Virat\n",
      "Player Names is Rishabh\n"
     ]
    }
   ],
   "source": [
    "players_name = ['Rohit',\"Virat\",'Rishabh']\n",
    "\n",
    "for i,player in enumerate(players_name):\n",
    "    print(f'Player Names is {player}')\n"
   ]
  },
  {
   "cell_type": "code",
   "execution_count": 73,
   "id": "fifty-rendering",
   "metadata": {},
   "outputs": [
    {
     "name": "stdout",
     "output_type": "stream",
     "text": [
      "value at index[0] is Rohit\n",
      "value at index[1] is Virat\n",
      "value at index[2] is Rishabh\n"
     ]
    }
   ],
   "source": [
    "players_name = ['Rohit',\"Virat\",'Rishabh']\n",
    "\n",
    "for i,player in enumerate(players_name):\n",
    "    print(f'value at index[{i}] is {player}')"
   ]
  },
  {
   "cell_type": "code",
   "execution_count": 76,
   "id": "requested-intention",
   "metadata": {},
   "outputs": [
    {
     "name": "stdout",
     "output_type": "stream",
     "text": [
      "Sum of all the element is = 142\n"
     ]
    }
   ],
   "source": [
    "list1=[10,20,45,67]\n",
    "total=0\n",
    "for item in list1: # item = 67\n",
    "    total = total + item  # total = 75 +67\n",
    "print(\"Sum of all the element is =\",total)    \n"
   ]
  },
  {
   "cell_type": "code",
   "execution_count": 23,
   "id": "e590fb87",
   "metadata": {},
   "outputs": [
    {
     "name": "stdout",
     "output_type": "stream",
     "text": [
      "Sum of all the element is = 10\n",
      "Sum of all the element is = 30\n",
      "Sum of all the element is = 75\n",
      "Sum of all the element is = 142\n"
     ]
    }
   ],
   "source": [
    "list1=[10,20,45,67]\n",
    "total=0\n",
    "for item in list1: # item = 67\n",
    "    total = total + item  # total = 75 +67\n",
    "    print(\"Sum of all the element is =\",total)   \n"
   ]
  },
  {
   "cell_type": "code",
   "execution_count": 79,
   "id": "through-dodge",
   "metadata": {},
   "outputs": [
    {
     "name": "stdout",
     "output_type": "stream",
     "text": [
      "10\n",
      "20\n",
      "Value found\n",
      "45\n",
      "67\n"
     ]
    }
   ],
   "source": [
    "list1=[10,20,45,67]\n",
    "for item in list1: # item = 67\n",
    "    print(item)\n",
    "    if item == 20:\n",
    "        print('Value found')\n"
   ]
  },
  {
   "cell_type": "code",
   "execution_count": 25,
   "id": "f8cf138d",
   "metadata": {},
   "outputs": [
    {
     "name": "stdout",
     "output_type": "stream",
     "text": [
      "10\n",
      "20\n",
      "Value found\n",
      "20\n",
      "45\n",
      "67\n"
     ]
    }
   ],
   "source": [
    "list1=[10,20,45,67]\n",
    "for item in list1: # item = 67\n",
    "    print(item)\n",
    "    if item == 20:\n",
    "        print('Value found')\n",
    "        print(item)\n"
   ]
  },
  {
   "cell_type": "markdown",
   "id": "hungry-turtle",
   "metadata": {},
   "source": [
    "# 1. break "
   ]
  },
  {
   "cell_type": "raw",
   "id": "laughing-understanding",
   "metadata": {},
   "source": [
    "To exit the loop\n",
    "To stop iterations"
   ]
  },
  {
   "cell_type": "code",
   "execution_count": 85,
   "id": "adequate-first",
   "metadata": {},
   "outputs": [
    {
     "name": "stdout",
     "output_type": "stream",
     "text": [
      "3\n",
      "4\n",
      "5\n",
      "6\n",
      "10\n",
      "Value found\n",
      "Finished\n"
     ]
    }
   ],
   "source": [
    "list1 = [3,4,5,6,10,30,4,5,6]\n",
    "\n",
    "for val in list1:  # 9 times\n",
    "    print(val)\n",
    "    if val == 10:\n",
    "        print(\"Value found\")\n",
    "        break\n",
    "        \n",
    "print(\"Finished\")"
   ]
  },
  {
   "cell_type": "code",
   "execution_count": 88,
   "id": "abroad-computer",
   "metadata": {},
   "outputs": [
    {
     "name": "stdout",
     "output_type": "stream",
     "text": [
      "3\n",
      "Finished\n"
     ]
    }
   ],
   "source": [
    "list1 = [3,4,5,6,10,30,4,5,6]\n",
    "\n",
    "for val in list1:  # 9 times\n",
    "    print(val)\n",
    "    break\n",
    "    \n",
    "print(\"Finished\")"
   ]
  },
  {
   "cell_type": "code",
   "execution_count": 92,
   "id": "treated-corporation",
   "metadata": {},
   "outputs": [
    {
     "name": "stdout",
     "output_type": "stream",
     "text": [
      "0 3\n",
      "1 4\n",
      "2 5\n",
      "3 6\n",
      "Finished\n"
     ]
    }
   ],
   "source": [
    "list1 = [3,4,5,6,10,30,4,5,6]\n",
    "\n",
    "for index,val in enumerate(list1):  # 9 times\n",
    "    print(index,val) # 3,6\n",
    "    if index == 3: # True\n",
    "        break\n",
    "    \n",
    "print(\"Finished\")"
   ]
  },
  {
   "cell_type": "code",
   "execution_count": 28,
   "id": "31c4f0a1",
   "metadata": {},
   "outputs": [
    {
     "name": "stdout",
     "output_type": "stream",
     "text": [
      "0 3\n",
      "Finished\n"
     ]
    }
   ],
   "source": [
    "list1 = [3,4,5,6,10,30,4,5,6]\n",
    "\n",
    "for index,val in enumerate(list1):  # 9 times\n",
    "    print(index,val) # 3,6\n",
    "    if index == 3:  # True\n",
    "        pass  \n",
    "    break\n",
    "    \n",
    "print(\"Finished\")"
   ]
  },
  {
   "cell_type": "code",
   "execution_count": 30,
   "id": "desirable-bottle",
   "metadata": {},
   "outputs": [
    {
     "name": "stdout",
     "output_type": "stream",
     "text": [
      "0 3\n",
      "1 4\n",
      "2 5\n",
      "Finished\n"
     ]
    }
   ],
   "source": [
    "list1 = [3,4,5,6,10,30,4,5,6]\n",
    "\n",
    "for index,val in enumerate(list1):  # 9 times\n",
    "    if index == 3: # True\n",
    "        break\n",
    "    print(index,val) # 3,6\n",
    "    \n",
    "print(\"Finished\")"
   ]
  },
  {
   "cell_type": "code",
   "execution_count": 31,
   "id": "a2607cf3",
   "metadata": {},
   "outputs": [
    {
     "name": "stdout",
     "output_type": "stream",
     "text": [
      "0 3\n",
      "1 4\n",
      "2 5\n",
      "3 6\n",
      "Finished\n"
     ]
    }
   ],
   "source": [
    "list1 = [3,4,5,6,10,30,4,5,6]\n",
    "\n",
    "for index,val in enumerate(list1):  # 9 times\n",
    "    print(index,val) # 3,6\n",
    "    if index == 3: # True\n",
    "        break\n",
    "    \n",
    "print(\"Finished\")"
   ]
  },
  {
   "cell_type": "code",
   "execution_count": 98,
   "id": "proper-principle",
   "metadata": {},
   "outputs": [
    {
     "name": "stdout",
     "output_type": "stream",
     "text": [
      "10\n",
      "20\n",
      "python\n",
      "String data type found\n",
      "data\n",
      "String data type found\n",
      "30\n",
      "50\n",
      "machine learning\n",
      "String data type found\n"
     ]
    }
   ],
   "source": [
    "l1 = [10,20,'python','data',30,50,'machine learning']\n",
    "for val in l1:\n",
    "    print(val)\n",
    "    if type(val) == str:\n",
    "        print(\"String data type found\")"
   ]
  },
  {
   "cell_type": "code",
   "execution_count": 100,
   "id": "otherwise-friendship",
   "metadata": {},
   "outputs": [
    {
     "name": "stdout",
     "output_type": "stream",
     "text": [
      "10\n",
      "20\n",
      "python\n",
      "String data type found\n"
     ]
    }
   ],
   "source": [
    "l1 = [10,20,'python','data',30,50,'machine learning']\n",
    "for val in l1:\n",
    "    print(val)\n",
    "    if type(val) == str:\n",
    "        print(\"String data type found\")\n",
    "        break\n",
    "        "
   ]
  },
  {
   "cell_type": "code",
   "execution_count": 109,
   "id": "latin-better",
   "metadata": {},
   "outputs": [
    {
     "name": "stdout",
     "output_type": "stream",
     "text": [
      "Value found\n",
      "Finished\n"
     ]
    }
   ],
   "source": [
    "for i in range(1,5):  # i = 3\n",
    "    \n",
    "    if i == 3: # True\n",
    "        print(\"Value found\")\n",
    "        break  # All the furter iteration will stop\n",
    "        print(i)\n",
    "        print('Hello')\n",
    "        \n",
    "print(\"Finished\")"
   ]
  },
  {
   "cell_type": "markdown",
   "id": "settled-baseball",
   "metadata": {},
   "source": [
    "# 2. continue statement"
   ]
  },
  {
   "cell_type": "raw",
   "id": "dimensional-denial",
   "metadata": {},
   "source": [
    "To stop current iteration, continue with next iteration"
   ]
  },
  {
   "cell_type": "raw",
   "id": "301c0fd8",
   "metadata": {},
   "source": [
    "Single equal(=) is an assignment operator used to assign the values to the variables.\n",
    "double equal(==)  is relational operator used to compare two variable values whether they are equal are not."
   ]
  },
  {
   "cell_type": "raw",
   "id": "fbf15835",
   "metadata": {},
   "source": [
    "The continue statement in C programming works somewhat like the break statement. Instead of forcing termination, it forces the next iteration of the loop to take place, skipping any code in between. For the for loop, continue statement causes the conditional test and increment portions of the loop to execute."
   ]
  },
  {
   "cell_type": "code",
   "execution_count": 114,
   "id": "cheap-selling",
   "metadata": {},
   "outputs": [
    {
     "name": "stdout",
     "output_type": "stream",
     "text": [
      "5\n",
      "6\n",
      "7\n",
      "Number found\n",
      "8\n",
      "9\n"
     ]
    }
   ],
   "source": [
    "for num in range(5,10):\n",
    "    print(num)\n",
    "    if num == 7: # True         \n",
    "        print('Number found')\n",
    "        continue"
   ]
  },
  {
   "cell_type": "code",
   "execution_count": 35,
   "id": "3eeec634",
   "metadata": {},
   "outputs": [
    {
     "name": "stdout",
     "output_type": "stream",
     "text": [
      "7\n",
      "Number found\n"
     ]
    }
   ],
   "source": [
    "for num in range(5,10):\n",
    "    \n",
    "    if num == 7: # True\n",
    "        \n",
    "        print(num)\n",
    "        print('Number found')\n",
    "    continue\n",
    "        "
   ]
  },
  {
   "cell_type": "code",
   "execution_count": 36,
   "id": "intellectual-vessel",
   "metadata": {},
   "outputs": [
    {
     "name": "stdout",
     "output_type": "stream",
     "text": [
      "Number is  5\n",
      "Number is  6\n",
      "Number found\n",
      "Number is  7\n",
      "Number is  8\n",
      "Number is  9\n"
     ]
    }
   ],
   "source": [
    "for num in range(5,10):\n",
    "    \n",
    "    if num == 7: # True\n",
    "        print('Number found')\n",
    "\n",
    "    print('Number is ',num)"
   ]
  },
  {
   "cell_type": "code",
   "execution_count": 38,
   "id": "extra-peter",
   "metadata": {},
   "outputs": [
    {
     "name": "stdout",
     "output_type": "stream",
     "text": [
      "Number is  5\n",
      "Number is  6\n",
      "Number is  7\n",
      "Number found\n",
      "Number is  8\n",
      "Number is  9\n"
     ]
    }
   ],
   "source": [
    "for num in range(5,10):\n",
    "    print('Number is ',num)\n",
    "    if num == 7: # True\n",
    "        print('Number found')\n",
    "        continue"
   ]
  },
  {
   "cell_type": "code",
   "execution_count": 4,
   "id": "wrong-lebanon",
   "metadata": {},
   "outputs": [
    {
     "name": "stdout",
     "output_type": "stream",
     "text": [
      "Number is  5\n",
      "Number is  6\n",
      "Number found\n",
      "Number is  8\n",
      "Number is  9\n"
     ]
    }
   ],
   "source": [
    "for num in range(5,10):\n",
    "    if num == 7: # True\n",
    "        print('Number found')\n",
    "        continue  \n",
    "        \n",
    "    print('Number is ',num)"
   ]
  },
  {
   "cell_type": "code",
   "execution_count": 6,
   "id": "5068fe5d",
   "metadata": {},
   "outputs": [
    {
     "name": "stdout",
     "output_type": "stream",
     "text": [
      "Number is  5\n",
      "Number is  6\n",
      "Number found\n",
      "Number is  8\n",
      "Number is  9\n"
     ]
    }
   ],
   "source": [
    "for num in range(5,10):\n",
    "    if num == 7: # True\n",
    "        print('Number found')\n",
    "        pass\n",
    "        continue  \n",
    "        \n",
    "    print('Number is ',num)"
   ]
  },
  {
   "cell_type": "code",
   "execution_count": 14,
   "id": "monetary-welsh",
   "metadata": {},
   "outputs": [
    {
     "name": "stdout",
     "output_type": "stream",
     "text": [
      "Number is  5\n",
      "Number is  6\n",
      "Hello\n",
      "Number is  7\n",
      "Number is  8\n",
      "Number is  9\n",
      "Loop Completed\n"
     ]
    }
   ],
   "source": [
    "for num1 in range(5,10):\n",
    "    if num1 == 7:     # True\n",
    "         print(\"Hello\")\n",
    "    print('Number is ',num1)\n",
    "\n",
    "    \n",
    "    \n",
    "print(\"Loop Completed\")"
   ]
  },
  {
   "cell_type": "code",
   "execution_count": 60,
   "id": "average-rough",
   "metadata": {},
   "outputs": [
    {
     "name": "stdout",
     "output_type": "stream",
     "text": [
      "100\n",
      "100\n",
      "100\n",
      "100\n",
      "100\n"
     ]
    }
   ],
   "source": [
    "for num in range(5,10):\n",
    "    x = 100\n",
    "    print(x)\n",
    "    pass"
   ]
  },
  {
   "cell_type": "code",
   "execution_count": 139,
   "id": "silent-spouse",
   "metadata": {},
   "outputs": [
    {
     "name": "stdout",
     "output_type": "stream",
     "text": [
      "Number found\n",
      "Number is  9\n"
     ]
    }
   ],
   "source": [
    "for num in range(5,10):\n",
    "    if num == 7: # True\n",
    "        print('Number found')\n",
    "        continue  \n",
    "        \n",
    "print('Number is ',num)"
   ]
  },
  {
   "cell_type": "code",
   "execution_count": 149,
   "id": "cardiovascular-ecology",
   "metadata": {},
   "outputs": [
    {
     "name": "stdout",
     "output_type": "stream",
     "text": [
      "value is : 3\n",
      "value is : 4\n",
      "value is : 5\n",
      "value is : python\n",
      "value is : data\n",
      "value is : 10.0\n",
      "value is : 20.5\n",
      "value is : science\n",
      "value is : 10\n",
      "value is : 20\n",
      "value is : 50\n",
      "Interger list is : [3, 4, 5, 10, 20, 50]\n",
      "Float list is    : [10.0, 20.5]\n",
      "String list is   : []\n"
     ]
    }
   ],
   "source": [
    "list1 = [3,4,5,'python','data',10.0,20.5,'science',10,20,50]\n",
    "\n",
    "int_list= []\n",
    "float_list = []\n",
    "str_list = []\n",
    "\n",
    "for val in list1:\n",
    "    print(\"value is :\",val)\n",
    "    \n",
    "    if type(val) == int:\n",
    "        int_list.append(val)\n",
    "        pass\n",
    "    \n",
    "    elif type(val) == float:\n",
    "        float_list.append(val)\n",
    "        continue\n",
    "        \n",
    "    else:\n",
    "        continue\n",
    "        str_list.append(val)\n",
    "        \n",
    "    \n",
    "print(\"Interger list is :\",int_list)\n",
    "print(\"Float list is    :\",float_list)\n",
    "print(\"String list is   :\",str_list)\n"
   ]
  },
  {
   "cell_type": "code",
   "execution_count": 154,
   "id": "buried-waste",
   "metadata": {},
   "outputs": [
    {
     "name": "stdout",
     "output_type": "stream",
     "text": [
      "value is : 3\n",
      "value is : 4\n",
      "value is : 5\n",
      "value is : python\n",
      "value is : data\n",
      "value is : 10.0\n",
      "Interger list is : [3, 4, 5]\n",
      "Float list is    : [10.0]\n",
      "String list is   : ['python', 'data']\n"
     ]
    }
   ],
   "source": [
    "list1 = [3,4,5,'python','data',10.0,20.5,'science',10,20,50]\n",
    "\n",
    "int_list= []\n",
    "float_list = []\n",
    "str_list = []\n",
    " \n",
    "for val in list1:  # val = 3\n",
    "    print(\"value is :\",val)\n",
    "    if type(val) == int:\n",
    "        int_list.append(val) # [3,4,5]\n",
    "        pass\n",
    "    \n",
    "    elif type(val) == float:   # True\n",
    "                           # For loop will stop\n",
    "        float_list.append(val)  # []\n",
    "        break\n",
    "        \n",
    "    else:\n",
    "        str_list.append(val)    # []\n",
    "        continue\n",
    "    \n",
    "print(\"Interger list is :\",int_list)\n",
    "print(\"Float list is    :\",float_list)\n",
    "print(\"String list is   :\",str_list)\n"
   ]
  },
  {
   "cell_type": "code",
   "execution_count": null,
   "id": "olympic-jungle",
   "metadata": {},
   "outputs": [],
   "source": []
  },
  {
   "cell_type": "code",
   "execution_count": null,
   "id": "timely-connecticut",
   "metadata": {},
   "outputs": [],
   "source": []
  },
  {
   "cell_type": "markdown",
   "id": "friendly-keyboard",
   "metadata": {},
   "source": [
    "# for - else"
   ]
  },
  {
   "cell_type": "raw",
   "id": "statutory-midwest",
   "metadata": {},
   "source": [
    "It will execute only when the loop is finished with all iteration\n",
    "Else block will not execute if loop is stopped by break statement"
   ]
  },
  {
   "cell_type": "code",
   "execution_count": 68,
   "id": "recognized-jamaica",
   "metadata": {},
   "outputs": [
    {
     "name": "stdout",
     "output_type": "stream",
     "text": [
      "0\n",
      "1\n",
      "2\n",
      "3\n",
      "4\n",
      "Foor loop completed its all iteration\n"
     ]
    }
   ],
   "source": [
    "for i in range(5):  # 5 iterations\n",
    "    print(i)\n",
    "    continue\n",
    "\n",
    "    \n",
    "else:\n",
    "    print(\"Foor loop completed its all iteration\")"
   ]
  },
  {
   "cell_type": "code",
   "execution_count": 160,
   "id": "phantom-european",
   "metadata": {},
   "outputs": [
    {
     "name": "stdout",
     "output_type": "stream",
     "text": [
      "Iteration  0\n",
      "Iteration  1\n",
      "Iteration  2\n",
      "Iteration  3\n",
      "Hello\n",
      "Iteration  4\n",
      "Foor loop completed its all iteration\n"
     ]
    }
   ],
   "source": [
    "for i in range(5):  # 5 iterations\n",
    "    print(\"Iteration \",i)\n",
    "    if i == 3:\n",
    "        print('Hello')\n",
    "        pass\n",
    "    \n",
    "else:\n",
    "    print(\"Foor loop completed its all iteration\")"
   ]
  },
  {
   "cell_type": "code",
   "execution_count": 165,
   "id": "unlimited-tamil",
   "metadata": {},
   "outputs": [
    {
     "name": "stdout",
     "output_type": "stream",
     "text": [
      "Iteration  0\n",
      "Iteration  1\n",
      "Iteration  2\n",
      "Iteration  3\n",
      "Hello\n",
      "Iteration  4\n",
      "Foor loop completed its all iteration\n"
     ]
    }
   ],
   "source": [
    "for i in range(5):  # 5 iterations\n",
    "    print(\"Iteration \",i)\n",
    "    if i == 3:\n",
    "        print('Hello')\n",
    "        continue\n",
    "    \n",
    "else:\n",
    "    print(\"Foor loop completed its all iteration\")"
   ]
  },
  {
   "cell_type": "code",
   "execution_count": 166,
   "id": "peaceful-gilbert",
   "metadata": {},
   "outputs": [
    {
     "name": "stdout",
     "output_type": "stream",
     "text": [
      "Iteration  0\n",
      "Iteration  1\n",
      "Iteration  2\n",
      "Iteration  3\n",
      "Hello\n"
     ]
    }
   ],
   "source": [
    "for i in range(10,15):  # 5 iterations\n",
    "    print(\"Iteration \",i)\n",
    "    if i == 3:\n",
    "        print('Hello')\n",
    "        break\n",
    "    \n",
    "else:\n",
    "    print(\"Foor loop completed its all iteration\")\n",
    "    \n",
    "    "
   ]
  },
  {
   "cell_type": "code",
   "execution_count": 74,
   "id": "crucial-centre",
   "metadata": {},
   "outputs": [
    {
     "data": {
      "text/plain": [
       "[10, 11, 12, 13, 14, 15, 16, 17, 18, 19, 20]"
      ]
     },
     "execution_count": 74,
     "metadata": {},
     "output_type": "execute_result"
    }
   ],
   "source": [
    "list(range(10,21))"
   ]
  },
  {
   "cell_type": "code",
   "execution_count": 76,
   "id": "dental-firmware",
   "metadata": {},
   "outputs": [
    {
     "data": {
      "text/plain": [
       "[10, 12, 14, 16, 18, 20]"
      ]
     },
     "execution_count": 76,
     "metadata": {},
     "output_type": "execute_result"
    }
   ],
   "source": [
    "list(range(10,21,2))"
   ]
  },
  {
   "cell_type": "code",
   "execution_count": 173,
   "id": "automatic-florence",
   "metadata": {},
   "outputs": [
    {
     "name": "stdout",
     "output_type": "stream",
     "text": [
      "10\n",
      "12\n",
      "14\n",
      "16\n",
      "18\n",
      "20\n"
     ]
    }
   ],
   "source": [
    "for i in range(10,21,2): # 6\n",
    "    print(i)"
   ]
  }
 ],
 "metadata": {
  "kernelspec": {
   "display_name": "Python 3",
   "language": "python",
   "name": "python3"
  },
  "language_info": {
   "codemirror_mode": {
    "name": "ipython",
    "version": 3
   },
   "file_extension": ".py",
   "mimetype": "text/x-python",
   "name": "python",
   "nbconvert_exporter": "python",
   "pygments_lexer": "ipython3",
   "version": "3.8.8"
  }
 },
 "nbformat": 4,
 "nbformat_minor": 5
}
