{
 "cells": [
  {
   "cell_type": "raw",
   "id": "placed-minority",
   "metadata": {},
   "source": [
    "while expression:\n",
    "    statement1\n",
    "    statement2\n",
    "    code "
   ]
  },
  {
   "cell_type": "code",
   "execution_count": null,
   "id": "dominant-debate",
   "metadata": {},
   "outputs": [],
   "source": [
    "It will execute a block of code repeatadly until the condition becomes False"
   ]
  },
  {
   "cell_type": "code",
   "execution_count": null,
   "id": "secondary-corruption",
   "metadata": {},
   "outputs": [],
   "source": []
  },
  {
   "cell_type": "code",
   "execution_count": 3,
   "id": "thrown-chart",
   "metadata": {},
   "outputs": [
    {
     "name": "stdout",
     "output_type": "stream",
     "text": [
      "1\n",
      "We are testing While Loop\n",
      "2\n",
      "We are testing While Loop\n",
      "3\n",
      "We are testing While Loop\n",
      "4\n",
      "We are testing While Loop\n"
     ]
    }
   ],
   "source": [
    "i = 1\n",
    "\n",
    "while i < 5: # True\n",
    "    print(i)\n",
    "    print(\"We are testing While Loop\")\n",
    "    i += 1"
   ]
  },
  {
   "cell_type": "code",
   "execution_count": 7,
   "id": "monthly-voluntary",
   "metadata": {},
   "outputs": [
    {
     "name": "stdout",
     "output_type": "stream",
     "text": [
      "1\n",
      "We are testing While Loop\n",
      "2\n",
      "We are testing While Loop\n",
      "3\n",
      "We are testing While Loop\n",
      "4\n",
      "We are testing While Loop\n"
     ]
    }
   ],
   "source": [
    "i = 1\n",
    "\n",
    "while i < 5: # True\n",
    "    print(i)\n",
    "    print(\"We are testing While Loop\")\n",
    "    i += 1"
   ]
  },
  {
   "cell_type": "code",
   "execution_count": 10,
   "id": "prescription-mixer",
   "metadata": {},
   "outputs": [
    {
     "name": "stdout",
     "output_type": "stream",
     "text": [
      "Iteration Number is : 1\n",
      "We are testing While Loop\n",
      "\n",
      "Iteration Number is : 2\n",
      "We are testing While Loop\n",
      "\n",
      "Iteration Number is : 3\n",
      "We are testing While Loop\n",
      "\n",
      "Iteration Number is : 4\n",
      "We are testing While Loop\n",
      "\n",
      "Iteration Number is : 5\n",
      "We are testing While Loop\n",
      "\n"
     ]
    }
   ],
   "source": [
    "i = 1\n",
    "\n",
    "while i <= 5: # True\n",
    "    print(\"Iteration Number is :\",i)\n",
    "    print(\"We are testing While Loop\")\n",
    "    print()\n",
    "    i += 1"
   ]
  },
  {
   "cell_type": "markdown",
   "id": "dietary-constant",
   "metadata": {},
   "source": [
    "### Sum of first 10 numbers"
   ]
  },
  {
   "cell_type": "code",
   "execution_count": 13,
   "id": "synthetic-backing",
   "metadata": {},
   "outputs": [
    {
     "name": "stdout",
     "output_type": "stream",
     "text": [
      "Sum of first 10 number is 55\n"
     ]
    }
   ],
   "source": [
    "num = 1\n",
    "add = 0\n",
    "n = 10\n",
    "while num <= n:\n",
    "    add = add + num\n",
    "    num += 1\n",
    "print(f'Sum of first {n} number is {add}')"
   ]
  },
  {
   "cell_type": "code",
   "execution_count": 15,
   "id": "later-school",
   "metadata": {},
   "outputs": [
    {
     "name": "stdout",
     "output_type": "stream",
     "text": [
      "Sum of first 10 number is 55\n"
     ]
    }
   ],
   "source": [
    "num = 1 ; add = 0 ; n = 10\n",
    "while num <= n:\n",
    "    add = add + num\n",
    "    num += 1\n",
    "print(f'Sum of first {n} number is {add}')"
   ]
  },
  {
   "cell_type": "code",
   "execution_count": 20,
   "id": "historical-inflation",
   "metadata": {},
   "outputs": [
    {
     "name": "stdout",
     "output_type": "stream",
     "text": [
      "1\n",
      "3\n",
      "6\n",
      "10\n",
      "15\n",
      "Sum of first 5 number is 15\n"
     ]
    }
   ],
   "source": [
    "num,add,n = 1, 0, 5\n",
    "while num <= n: # 6 <= 5 False\n",
    "    add = add + num   # add = 15\n",
    "    num += 1           # 6\n",
    "    print(add)\n",
    "    \n",
    "    \n",
    "print(f'Sum of first {n} number is {add}')"
   ]
  },
  {
   "cell_type": "markdown",
   "id": "comparative-above",
   "metadata": {},
   "source": [
    "# Loop Control Statements\n"
   ]
  },
  {
   "cell_type": "markdown",
   "id": "recorded-grocery",
   "metadata": {},
   "source": [
    "### 1. continue"
   ]
  },
  {
   "cell_type": "code",
   "execution_count": 97,
   "id": "anticipated-office",
   "metadata": {},
   "outputs": [
    {
     "name": "stdout",
     "output_type": "stream",
     "text": [
      "Multiplication of Numbers\n",
      "Multiplication of first 10 number is 3628800\n"
     ]
    }
   ],
   "source": [
    "num = 1\n",
    "mul = 1\n",
    "n = 10\n",
    "\n",
    "while num <= n:\n",
    "    mul = mul * num\n",
    "    num += 1\n",
    "    \n",
    "    if num == 5:\n",
    "        print(\"Multiplication of Numbers\")\n",
    "        continue\n",
    "    \n",
    "print(f'Multiplication of first {n} number is {mul}')"
   ]
  },
  {
   "cell_type": "code",
   "execution_count": 35,
   "id": "following-privacy",
   "metadata": {},
   "outputs": [
    {
     "name": "stdout",
     "output_type": "stream",
     "text": [
      "2 2\n",
      "3 5\n",
      "4 9\n",
      "Hello\n",
      "6 15\n",
      "7 22\n",
      "8 30\n",
      "9 39\n",
      "10 49\n",
      "11 60\n",
      "Sum of first 10 number is 60\n"
     ]
    }
   ],
   "source": [
    "num = 1 ; add = 0 ; n = 10\n",
    "while num <= n: # 4 <= 10 True\n",
    "\n",
    "    num += 1\n",
    "    if num == 5 : # True\n",
    "        print(\"Hello\")\n",
    "        continue  # It will stop current iteration\n",
    "    \n",
    "    add = add + num\n",
    "    print(num,add)\n",
    "    \n",
    "print(f'Sum of first {n} number is {add}')"
   ]
  },
  {
   "cell_type": "code",
   "execution_count": 48,
   "id": "periodic-diamond",
   "metadata": {},
   "outputs": [
    {
     "name": "stdout",
     "output_type": "stream",
     "text": [
      "i ==  2\n",
      "We are While loop\n",
      "i ==  3\n",
      "i ==  4\n",
      "We are While loop\n",
      "i ==  5\n",
      "We are While loop\n",
      "i ==  6\n",
      "We are While loop\n"
     ]
    }
   ],
   "source": [
    "i = 1\n",
    "while i <= 5:\n",
    "    i += 1\n",
    "    print('i == ',i)\n",
    "    if i == 3: # True\n",
    "        continue\n",
    "        print('*********')\n",
    "        \n",
    "    print('We are While loop')"
   ]
  },
  {
   "cell_type": "code",
   "execution_count": 49,
   "id": "sharp-letters",
   "metadata": {},
   "outputs": [
    {
     "name": "stdout",
     "output_type": "stream",
     "text": [
      "i ==  2\n",
      "We are While loop\n",
      "i ==  3\n",
      "*********\n"
     ]
    }
   ],
   "source": [
    "i = 1\n",
    "while i <= 5:\n",
    "    i += 1\n",
    "    print('i == ',i)\n",
    "    if i == 3: # True\n",
    "        print('*********')\n",
    "        break  # It will exit while loop\n",
    "        \n",
    "    print('We are While loop')"
   ]
  },
  {
   "cell_type": "code",
   "execution_count": 53,
   "id": "serious-aurora",
   "metadata": {},
   "outputs": [
    {
     "name": "stdout",
     "output_type": "stream",
     "text": [
      "i ==  2\n",
      "We are While loop\n",
      "i ==  3\n",
      "*********\n",
      "We are While loop\n",
      "i ==  4\n",
      "We are While loop\n",
      "i ==  5\n",
      "We are While loop\n",
      "i ==  6\n",
      "We are While loop\n"
     ]
    }
   ],
   "source": [
    "i = 1\n",
    "while i <= 5:\n",
    "    i += 1\n",
    "    print('i == ',i)\n",
    "    if i == 3: # True\n",
    "        print('*********')\n",
    "        pass  # To avoid errors/ If no statement in while/if/for block \n",
    "        \n",
    "    print('We are While loop')"
   ]
  },
  {
   "cell_type": "markdown",
   "id": "electoral-curtis",
   "metadata": {},
   "source": [
    "# while - else"
   ]
  },
  {
   "cell_type": "code",
   "execution_count": 55,
   "id": "diagnostic-driving",
   "metadata": {},
   "outputs": [
    {
     "name": "stdout",
     "output_type": "stream",
     "text": [
      "1\n",
      "2\n",
      "3\n",
      "4\n",
      "5\n"
     ]
    }
   ],
   "source": [
    "i = 1\n",
    "while i <= 5:  # 4 times\n",
    "    print(i)\n",
    "    i += 1"
   ]
  },
  {
   "cell_type": "code",
   "execution_count": 57,
   "id": "sapphire-opinion",
   "metadata": {},
   "outputs": [
    {
     "name": "stdout",
     "output_type": "stream",
     "text": [
      "1\n",
      "2\n",
      "3\n",
      "4\n",
      "5\n",
      "Loop is Completed\n"
     ]
    }
   ],
   "source": [
    "i = 1\n",
    "while i <= 5:  # 4 times\n",
    "    print(i)\n",
    "    i += 1\n",
    "    \n",
    "else:\n",
    "    print(\"Loop is Completed\")"
   ]
  },
  {
   "cell_type": "code",
   "execution_count": 59,
   "id": "natural-parallel",
   "metadata": {},
   "outputs": [
    {
     "name": "stdout",
     "output_type": "stream",
     "text": [
      "1\n",
      "2\n",
      "3\n",
      "************\n",
      "4\n",
      "5\n",
      "Loop is Completed\n"
     ]
    }
   ],
   "source": [
    "i = 1\n",
    "while i <= 5:  # 4 times\n",
    "    print(i)\n",
    "    i += 1\n",
    "    if i == 4:\n",
    "        print(\"************\")\n",
    "    \n",
    "else:\n",
    "    print(\"Loop is Completed\")"
   ]
  },
  {
   "cell_type": "code",
   "execution_count": 61,
   "id": "optional-murder",
   "metadata": {},
   "outputs": [
    {
     "name": "stdout",
     "output_type": "stream",
     "text": [
      "1\n",
      "2\n",
      "3\n",
      "************\n"
     ]
    }
   ],
   "source": [
    "i = 1\n",
    "while i <= 5:  # 3 <= 5  # True\n",
    "    print(i)\n",
    "    i += 1          # i = 4\n",
    "    if i == 4:  # True\n",
    "        print(\"************\")\n",
    "        break\n",
    "    \n",
    "else:\n",
    "    print(\"Loop is Completed\")"
   ]
  },
  {
   "cell_type": "code",
   "execution_count": 63,
   "id": "instant-cologne",
   "metadata": {},
   "outputs": [
    {
     "name": "stdout",
     "output_type": "stream",
     "text": [
      "1\n",
      "2\n",
      "3\n",
      "************\n",
      "4\n",
      "5\n",
      "Loop is Completed\n"
     ]
    }
   ],
   "source": [
    "i = 1\n",
    "while i <= 5:  # 6 <= 5  # False\n",
    "    print(i)\n",
    "    i += 1          # i = 6\n",
    "    if i == 4:  # True\n",
    "        print(\"************\")\n",
    "        \n",
    "else:\n",
    "    print(\"Loop is Completed\")"
   ]
  },
  {
   "cell_type": "code",
   "execution_count": 65,
   "id": "worse-sponsorship",
   "metadata": {},
   "outputs": [
    {
     "name": "stdout",
     "output_type": "stream",
     "text": [
      "1\n",
      "3\n",
      "5\n",
      "Loop is Completed\n"
     ]
    }
   ],
   "source": [
    "i = 1\n",
    "while i <= 5:  # 6 <= 5  # False\n",
    "    print(i)\n",
    "    i += 2          # i = 6\n",
    "    if i == 4:  # True\n",
    "        print(\"************\")\n",
    "        \n",
    "else:\n",
    "    print(\"Loop is Completed\")"
   ]
  },
  {
   "cell_type": "code",
   "execution_count": 68,
   "id": "editorial-surprise",
   "metadata": {},
   "outputs": [
    {
     "name": "stdout",
     "output_type": "stream",
     "text": [
      "Loop is Completed\n"
     ]
    }
   ],
   "source": [
    "i = 1\n",
    "while i > 2:  # False\n",
    "    print(i)\n",
    "    i += 2          # i = 6\n",
    "    \n",
    "else:\n",
    "    print(\"Loop is Completed\")"
   ]
  },
  {
   "cell_type": "markdown",
   "id": "economic-bunch",
   "metadata": {},
   "source": [
    "# Access Values from sequences"
   ]
  },
  {
   "cell_type": "code",
   "execution_count": 73,
   "id": "standard-graduate",
   "metadata": {},
   "outputs": [
    {
     "name": "stdout",
     "output_type": "stream",
     "text": [
      "Length of string is  12\n",
      "Value at index 0 is D\n",
      "Value at index 1 is a\n",
      "Value at index 2 is t\n",
      "Value at index 3 is a\n",
      "Value at index 4 is  \n",
      "Value at index 5 is S\n",
      "Value at index 6 is c\n",
      "Value at index 7 is i\n",
      "Value at index 8 is e\n",
      "Value at index 9 is n\n",
      "Value at index 10 is c\n",
      "Value at index 11 is e\n"
     ]
    }
   ],
   "source": [
    "string = 'Data Science'\n",
    "i = 0\n",
    "print('Length of string is ',len(string))\n",
    "while i < len(string):\n",
    "    print(f\"Value at index {i} is {string[i]}\")\n",
    "    i += 1\n",
    "    "
   ]
  },
  {
   "cell_type": "code",
   "execution_count": 75,
   "id": "proof-things",
   "metadata": {},
   "outputs": [
    {
     "name": "stdout",
     "output_type": "stream",
     "text": [
      "Length of List is  6\n",
      "Value at index 0 is 3\n",
      "Value at index 1 is 4\n",
      "Value at index 2 is 5\n",
      "Value at index 3 is 6\n",
      "Value at index 4 is 7\n",
      "Value at index 5 is 10\n"
     ]
    }
   ],
   "source": [
    "list1 = [3,4,5,6,7,10]\n",
    "i = 0\n",
    "print('Length of List is ',len(list1))\n",
    "while i < len(list1):\n",
    "    print(f\"Value at index {i} is {list1[i]}\")\n",
    "    i += 1\n",
    "    "
   ]
  },
  {
   "cell_type": "code",
   "execution_count": 81,
   "id": "liked-hypothetical",
   "metadata": {},
   "outputs": [
    {
     "name": "stdout",
     "output_type": "stream",
     "text": [
      "Even Numbers : [4, 6, 10, 12, 14, 90]\n",
      "Odd Numbers  : [3, 5, 7, 11]\n"
     ]
    }
   ],
   "source": [
    "list1 = [3,4,5,6,7,10,11,12,14,90]\n",
    "i = 0\n",
    "even_list = []\n",
    "odd_list = list()\n",
    "\n",
    "while i < len(list1):\n",
    "    if list1[i] % 2 == 0:\n",
    "        even_list.append(list1[i])\n",
    "    else:\n",
    "        odd_list.append(list1[i])\n",
    "        \n",
    "    i += 1\n",
    "    \n",
    "print(\"Even Numbers :\",even_list)\n",
    "print(\"Odd Numbers  :\",odd_list)"
   ]
  },
  {
   "cell_type": "markdown",
   "id": "binary-korean",
   "metadata": {},
   "source": [
    "### factorial"
   ]
  },
  {
   "cell_type": "code",
   "execution_count": 2,
   "id": "visible-worthy",
   "metadata": {},
   "outputs": [
    {
     "name": "stdout",
     "output_type": "stream",
     "text": [
      "Factorial of 5 is 120\n"
     ]
    }
   ],
   "source": [
    "n = 5\n",
    "fact = 1\n",
    "i = n\n",
    "\n",
    "while i >= 1:  # 5 >= 1 == True\n",
    "    fact = fact * i  # fact = 120\n",
    "    i -= 1           # i = 0 \n",
    "print(f\"Factorial of {n} is {fact}\")"
   ]
  },
  {
   "cell_type": "raw",
   "id": "rental-preview",
   "metadata": {},
   "source": [
    "10 * 1 = 10\n",
    "10 * 2 = 20\n",
    "10 * 3 = 30\n",
    ".\n",
    ".\n",
    "10 * 10 = 100"
   ]
  },
  {
   "cell_type": "code",
   "execution_count": 96,
   "id": "legislative-ireland",
   "metadata": {},
   "outputs": [
    {
     "name": "stdout",
     "output_type": "stream",
     "text": [
      "13 * 1 = 13\n",
      "13 * 2 = 26\n",
      "13 * 3 = 39\n",
      "13 * 4 = 52\n",
      "13 * 5 = 65\n",
      "13 * 6 = 78\n",
      "13 * 7 = 91\n",
      "13 * 8 = 104\n",
      "13 * 9 = 117\n",
      "13 * 10 = 130\n"
     ]
    }
   ],
   "source": [
    "n = 13\n",
    "num = 1\n",
    "while num <= 10:\n",
    "    print(f\"{n} * {num} = {n * num}\")\n",
    "    num += 1\n",
    "    "
   ]
  }
 ],
 "metadata": {
  "kernelspec": {
   "display_name": "Python 3",
   "language": "python",
   "name": "python3"
  },
  "language_info": {
   "codemirror_mode": {
    "name": "ipython",
    "version": 3
   },
   "file_extension": ".py",
   "mimetype": "text/x-python",
   "name": "python",
   "nbconvert_exporter": "python",
   "pygments_lexer": "ipython3",
   "version": "3.8.8"
  }
 },
 "nbformat": 4,
 "nbformat_minor": 5
}
